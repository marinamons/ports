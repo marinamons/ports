{
 "cells": [
  {
   "cell_type": "code",
   "execution_count": null,
   "id": "initial_id",
   "metadata": {
    "collapsed": true
   },
   "outputs": [],
   "source": [
    "import importlib\n",
    "import requests\n",
    "import csv"
   ]
  },
  {
   "cell_type": "markdown",
   "source": [
    "First, i run a library checker to ensure that I have loaded all the necessary expansions for the project."
   ],
   "metadata": {
    "collapsed": false
   },
   "id": "55b129779f5ce15c"
  },
  {
   "cell_type": "code",
   "execution_count": null,
   "outputs": [],
   "source": [
    "packs = ['requests','csv']\n",
    "\n",
    "def verificar_pack(pack):\n",
    "    try:\n",
    "        importlib.import_module(pack)\n",
    "        return True\n",
    "    except ImportError:\n",
    "        return False\n",
    "\n",
    "for pack in packs:\n",
    "    if verificar_pack(pack):\n",
    "        print(f'O pacote \"{pack}\" está instalado.')\n",
    "    else:\n",
    "        print(f'O pacote \"{pack}\" não está instalado.')\n"
   ],
   "metadata": {
    "collapsed": false
   },
   "id": "4c7fc5ad71f4f29a"
  },
  {
   "cell_type": "markdown",
   "source": [
    "#I- Download the data:\n",
    "In the URL there is a direct dowload link, the library 'requests' make connection with the URL HTML and the function \"download_csv_from_url\" returns the download in a CSV file"
   ],
   "metadata": {
    "collapsed": false
   },
   "id": "8f747bedaffb7feb"
  },
  {
   "cell_type": "code",
   "execution_count": null,
   "outputs": [],
   "source": [
    "def download_csv_from_url(url, destination):\n",
    "    try:\n",
    "        response = requests.get(url)\n",
    "        if response.status_code == 200:\n",
    "            with open(destination, 'wb') as file:\n",
    "                file.write(response.content)\n",
    "            print(f\"Downloaded CSV to {destination}\")\n",
    "        else:\n",
    "            print(f\"Failed to download from {url}. Status code: {response.status_code}\")\n",
    "    except Exception as e:\n",
    "        print(f\"An error occurred: {str(e)}\")\n",
    "\n",
    "if __name__ == \"__main__\":\n",
    "    url = \"https://factpages.npd.no/ReportServer_npdpublic?/FactPages/tableview/field_production_monthly&rs:Command=Render&rc:Toolbar=false&rc:Parameters=f&IpAddress=not_used&CultureCode=en&rs:Format=CSV&Top100=false\"\n",
    "    destination = \"production_data.csv\""
   ],
   "metadata": {
    "collapsed": false
   },
   "id": "7e7e328565e2492c"
  },
  {
   "cell_type": "markdown",
   "source": [
    "Execute the function "
   ],
   "metadata": {
    "collapsed": false
   },
   "id": "e8232873cfcfd371"
  },
  {
   "cell_type": "code",
   "execution_count": null,
   "outputs": [],
   "source": [
    "    download_csv_from_url(url, destination)"
   ],
   "metadata": {
    "collapsed": false
   },
   "id": "1d5ebd35254e87c5"
  },
  {
   "cell_type": "markdown",
   "source": [],
   "metadata": {
    "collapsed": false
   },
   "id": "ff3706ff2765fe9"
  },
  {
   "cell_type": "markdown",
   "source": [],
   "metadata": {
    "collapsed": false
   },
   "id": "1769c81dd6a588ed"
  },
  {
   "cell_type": "markdown",
   "source": [],
   "metadata": {
    "collapsed": false
   },
   "id": "69c748f064299d51"
  },
  {
   "cell_type": "markdown",
   "source": [],
   "metadata": {
    "collapsed": false
   },
   "id": "15ad9410d9dfd691"
  }
 ],
 "metadata": {
  "kernelspec": {
   "display_name": "Python 3",
   "language": "python",
   "name": "python3"
  },
  "language_info": {
   "codemirror_mode": {
    "name": "ipython",
    "version": 2
   },
   "file_extension": ".py",
   "mimetype": "text/x-python",
   "name": "python",
   "nbconvert_exporter": "python",
   "pygments_lexer": "ipython2",
   "version": "2.7.6"
  }
 },
 "nbformat": 4,
 "nbformat_minor": 5
}
